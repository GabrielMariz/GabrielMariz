{
  "nbformat": 4,
  "nbformat_minor": 0,
  "metadata": {
    "colab": {
      "provenance": [],
      "authorship_tag": "ABX9TyO7rhkRqu2cca4w1hyk0og8",
      "include_colab_link": true
    },
    "kernelspec": {
      "name": "python3",
      "display_name": "Python 3"
    },
    "language_info": {
      "name": "python"
    }
  },
  "cells": [
    {
      "cell_type": "markdown",
      "metadata": {
        "id": "view-in-github",
        "colab_type": "text"
      },
      "source": [
        "<a href=\"https://colab.research.google.com/github/GabrielMariz/GabrielMariz/blob/main/Pratica1NumPy.ipynb\" target=\"_parent\"><img src=\"https://colab.research.google.com/assets/colab-badge.svg\" alt=\"Open In Colab\"/></a>"
      ]
    },
    {
      "cell_type": "code",
      "execution_count": 1,
      "metadata": {
        "id": "iHXmQqS1lm7I"
      },
      "outputs": [],
      "source": [
        "import numpy as np"
      ]
    },
    {
      "cell_type": "markdown",
      "source": [],
      "metadata": {
        "id": "9r3t61wNnIix"
      }
    },
    {
      "cell_type": "markdown",
      "source": [
        "##Criando uma Lista\n"
      ],
      "metadata": {
        "id": "HVn4kP8FnKo5"
      }
    },
    {
      "cell_type": "markdown",
      "source": [],
      "metadata": {
        "id": "0SVr2R8GmFlq"
      }
    },
    {
      "cell_type": "code",
      "source": [
        "minhaLista=[0,1,2,3,4,5,6,7,8]\n",
        "minhaLista"
      ],
      "metadata": {
        "colab": {
          "base_uri": "https://localhost:8080/"
        },
        "id": "eGIa33VwnOlh",
        "outputId": "86853f7c-5798-4d0f-ba26-265ad7d39975"
      },
      "execution_count": 7,
      "outputs": [
        {
          "output_type": "execute_result",
          "data": {
            "text/plain": [
              "[0, 1, 2, 3, 4, 5, 6, 7, 8]"
            ]
          },
          "metadata": {},
          "execution_count": 7
        }
      ]
    },
    {
      "cell_type": "markdown",
      "source": [
        "##Transformando a lista em array NumPy\n"
      ],
      "metadata": {
        "id": "f8pCaY8Pna8d"
      }
    },
    {
      "cell_type": "code",
      "source": [
        "meuArray = np.array (minhaLista)\n",
        "meuArray"
      ],
      "metadata": {
        "colab": {
          "base_uri": "https://localhost:8080/"
        },
        "id": "yFzNmccznlLU",
        "outputId": "509fe331-8b8e-4f73-acac-faf37d8f0dcb"
      },
      "execution_count": 9,
      "outputs": [
        {
          "output_type": "execute_result",
          "data": {
            "text/plain": [
              "array([0, 1, 2, 3, 4, 5, 6, 7, 8])"
            ]
          },
          "metadata": {},
          "execution_count": 9
        }
      ]
    },
    {
      "cell_type": "markdown",
      "source": [
        "##Printando na tela"
      ],
      "metadata": {
        "id": "7D_cTuQfoYNL"
      }
    },
    {
      "cell_type": "code",
      "source": [
        "print(meuArray)"
      ],
      "metadata": {
        "colab": {
          "base_uri": "https://localhost:8080/"
        },
        "id": "mIaLxjTsoTxL",
        "outputId": "9a026ee4-e568-4751-9212-fca860ca2ddf"
      },
      "execution_count": 10,
      "outputs": [
        {
          "output_type": "stream",
          "name": "stdout",
          "text": [
            "[0 1 2 3 4 5 6 7 8]\n"
          ]
        }
      ]
    },
    {
      "cell_type": "markdown",
      "source": [
        "## Forma mais simples de lista com range"
      ],
      "metadata": {
        "id": "-484k5gSohWf"
      }
    },
    {
      "cell_type": "code",
      "source": [
        "minhaLista = list(range(9))\n",
        "print(minhaLista)"
      ],
      "metadata": {
        "colab": {
          "base_uri": "https://localhost:8080/"
        },
        "id": "eaI1cw5CoyLs",
        "outputId": "35d5b158-d194-44e8-8080-9ea7e773a101"
      },
      "execution_count": 11,
      "outputs": [
        {
          "output_type": "stream",
          "name": "stdout",
          "text": [
            "[0, 1, 2, 3, 4, 5, 6, 7, 8]\n"
          ]
        }
      ]
    },
    {
      "cell_type": "markdown",
      "source": [
        "##Transformando a lista num aray de forma mais simples"
      ],
      "metadata": {
        "id": "oiOTI-eSpGKS"
      }
    },
    {
      "cell_type": "code",
      "source": [
        "meuArray2 = np.arange(9)\n",
        "print(meuArray2)"
      ],
      "metadata": {
        "colab": {
          "base_uri": "https://localhost:8080/"
        },
        "id": "YBMK77hFpM8P",
        "outputId": "974bd701-d0a7-4f9f-cba6-572eae2e0b92"
      },
      "execution_count": 12,
      "outputs": [
        {
          "output_type": "stream",
          "name": "stdout",
          "text": [
            "[0 1 2 3 4 5 6 7 8]\n"
          ]
        }
      ]
    },
    {
      "cell_type": "markdown",
      "source": [
        "##Star, Stop, Step"
      ],
      "metadata": {
        "id": "IIaqM6kppqeK"
      }
    },
    {
      "cell_type": "code",
      "source": [
        "array3 = np.arange(0,10,0.5)\n",
        "print(array3)"
      ],
      "metadata": {
        "colab": {
          "base_uri": "https://localhost:8080/"
        },
        "id": "fq40-QhOpuwb",
        "outputId": "2029a0d5-78bf-412e-cc39-7f33ac8954a4"
      },
      "execution_count": 15,
      "outputs": [
        {
          "output_type": "stream",
          "name": "stdout",
          "text": [
            "[0.  0.5 1.  1.5 2.  2.5 3.  3.5 4.  4.5 5.  5.5 6.  6.5 7.  7.5 8.  8.5\n",
            " 9.  9.5]\n"
          ]
        }
      ]
    },
    {
      "cell_type": "markdown",
      "source": [
        "##Arredondando os valores Obtidos no arra3"
      ],
      "metadata": {
        "id": "dRqHFO8cqGTj"
      }
    },
    {
      "cell_type": "code",
      "source": [
        "roundArray3 = np.around(array3)\n",
        "print(roundArray3)"
      ],
      "metadata": {
        "colab": {
          "base_uri": "https://localhost:8080/"
        },
        "id": "WOj86pKEqOlr",
        "outputId": "fb971ad1-d209-46a8-b911-51b0b562f66b"
      },
      "execution_count": 16,
      "outputs": [
        {
          "output_type": "stream",
          "name": "stdout",
          "text": [
            "[ 0.  0.  1.  2.  2.  2.  3.  4.  4.  4.  5.  6.  6.  6.  7.  8.  8.  8.\n",
            "  9. 10.]\n"
          ]
        }
      ]
    },
    {
      "cell_type": "markdown",
      "source": [
        "##Fornçando os tipos"
      ],
      "metadata": {
        "id": "OY_yJtaqqgwa"
      }
    },
    {
      "cell_type": "code",
      "source": [
        "array3 = np.arange(0,10,0.5, dtype = int)\n",
        "print(array3)"
      ],
      "metadata": {
        "colab": {
          "base_uri": "https://localhost:8080/"
        },
        "id": "NeKv5YAQqk4C",
        "outputId": "423863cc-8c49-4867-e816-1942e1bda1eb"
      },
      "execution_count": 23,
      "outputs": [
        {
          "output_type": "stream",
          "name": "stdout",
          "text": [
            "[0 0 0 0 0 0 0 0 0 0 0 0 0 0 0 0 0 0 0 0]\n"
          ]
        }
      ]
    },
    {
      "cell_type": "markdown",
      "source": [
        "##Pré determinando os tipos"
      ],
      "metadata": {
        "id": "0NSR2Ce-uGrT"
      }
    },
    {
      "cell_type": "code",
      "source": [
        "array4 = np.arange(12)\n",
        "array4"
      ],
      "metadata": {
        "colab": {
          "base_uri": "https://localhost:8080/"
        },
        "id": "wTTXNglEuKJC",
        "outputId": "2d7b2d12-2254-47a3-e66a-927e87502131"
      },
      "execution_count": 32,
      "outputs": [
        {
          "output_type": "execute_result",
          "data": {
            "text/plain": [
              "array([ 0,  1,  2,  3,  4,  5,  6,  7,  8,  9, 10, 11])"
            ]
          },
          "metadata": {},
          "execution_count": 32
        }
      ]
    },
    {
      "cell_type": "markdown",
      "source": [
        "##Preparando meu array para tipo float"
      ],
      "metadata": {
        "id": "BRe6ZU-AuVVU"
      }
    },
    {
      "cell_type": "code",
      "source": [
        "array4= np.arange(12.)\n",
        "array4"
      ],
      "metadata": {
        "colab": {
          "base_uri": "https://localhost:8080/"
        },
        "id": "RMtnDtQTueTN",
        "outputId": "1fcaef91-d91d-4f44-bafa-0800fc1c6e36"
      },
      "execution_count": 33,
      "outputs": [
        {
          "output_type": "execute_result",
          "data": {
            "text/plain": [
              "array([ 0.,  1.,  2.,  3.,  4.,  5.,  6.,  7.,  8.,  9., 10., 11.])"
            ]
          },
          "metadata": {},
          "execution_count": 33
        }
      ]
    },
    {
      "cell_type": "markdown",
      "source": [
        "##Verificando o tipo do objeto"
      ],
      "metadata": {
        "id": "VTN72YWLunkP"
      }
    },
    {
      "cell_type": "code",
      "source": [
        "type(array4)"
      ],
      "metadata": {
        "colab": {
          "base_uri": "https://localhost:8080/"
        },
        "id": "gUEKPfmPuszB",
        "outputId": "a0701cf9-ff5a-4faa-d9e9-153e4e9c41f8"
      },
      "execution_count": 34,
      "outputs": [
        {
          "output_type": "execute_result",
          "data": {
            "text/plain": [
              "numpy.ndarray"
            ]
          },
          "metadata": {},
          "execution_count": 34
        }
      ]
    },
    {
      "cell_type": "markdown",
      "source": [
        "##Verificando o tipo dos elementos do array"
      ],
      "metadata": {
        "id": "wb64n7WIvCyN"
      }
    },
    {
      "cell_type": "code",
      "source": [
        "array4.dtype"
      ],
      "metadata": {
        "colab": {
          "base_uri": "https://localhost:8080/"
        },
        "id": "pm46Pd9rvBq0",
        "outputId": "2849640c-4b75-4b7f-ab5e-ef4788993208"
      },
      "execution_count": 35,
      "outputs": [
        {
          "output_type": "execute_result",
          "data": {
            "text/plain": [
              "dtype('float64')"
            ]
          },
          "metadata": {},
          "execution_count": 35
        }
      ]
    },
    {
      "cell_type": "markdown",
      "source": [
        "##array digiando os valores"
      ],
      "metadata": {
        "id": "38Pmp6ljvPIv"
      }
    },
    {
      "cell_type": "code",
      "source": [
        "vetor1 = np.array([0,1,2,3,4])\n",
        "print(vetor1)"
      ],
      "metadata": {
        "colab": {
          "base_uri": "https://localhost:8080/"
        },
        "id": "433b7Dy5vTlX",
        "outputId": "dd7c0d03-642d-4055-8029-3563c1e9d354"
      },
      "execution_count": 36,
      "outputs": [
        {
          "output_type": "stream",
          "name": "stdout",
          "text": [
            "[0 1 2 3 4]\n"
          ]
        }
      ]
    },
    {
      "cell_type": "markdown",
      "source": [
        "##Selecionando um elemento específico"
      ],
      "metadata": {
        "id": "XpsRdi49vd9Z"
      }
    },
    {
      "cell_type": "code",
      "source": [
        "vetor1[3]"
      ],
      "metadata": {
        "colab": {
          "base_uri": "https://localhost:8080/"
        },
        "id": "qQhiYZ5dvk7U",
        "outputId": "78191f9b-9bc6-49a5-8380-e861f7b72e1a"
      },
      "execution_count": 40,
      "outputs": [
        {
          "output_type": "execute_result",
          "data": {
            "text/plain": [
              "3"
            ]
          },
          "metadata": {},
          "execution_count": 40
        }
      ]
    },
    {
      "cell_type": "markdown",
      "source": [
        "##Selecionando um intervalo específico"
      ],
      "metadata": {
        "id": "uwi1-NIKvqMc"
      }
    },
    {
      "cell_type": "code",
      "source": [
        "vetor1[0:2]"
      ],
      "metadata": {
        "colab": {
          "base_uri": "https://localhost:8080/"
        },
        "id": "HItlk44Lvws0",
        "outputId": "f94c110a-078b-452e-fd8a-1d233ecf54e9"
      },
      "execution_count": 38,
      "outputs": [
        {
          "output_type": "execute_result",
          "data": {
            "text/plain": [
              "array([0, 1])"
            ]
          },
          "metadata": {},
          "execution_count": 38
        }
      ]
    },
    {
      "cell_type": "markdown",
      "source": [
        "##Criando um array de String"
      ],
      "metadata": {
        "id": "4n3fQU53xHGu"
      }
    },
    {
      "cell_type": "code",
      "source": [
        "s= np.array(['Python', 'Profissional', 'java', \"Água\"] )\n",
        "s\n"
      ],
      "metadata": {
        "colab": {
          "base_uri": "https://localhost:8080/"
        },
        "id": "BAj56FYsxWEZ",
        "outputId": "6e65ce85-4bdb-4995-c014-06928bb9b043"
      },
      "execution_count": 42,
      "outputs": [
        {
          "output_type": "execute_result",
          "data": {
            "text/plain": [
              "array(['Python', 'Profissional', 'java', 'Água'], dtype='<U12')"
            ]
          },
          "metadata": {},
          "execution_count": 42
        }
      ]
    },
    {
      "cell_type": "code",
      "source": [
        "s=np.array(['Python]',12131325, 'Profissional','Java'])\n",
        "s"
      ],
      "metadata": {
        "colab": {
          "base_uri": "https://localhost:8080/"
        },
        "id": "_16hbR3cyaHG",
        "outputId": "cc5b49ce-fd42-4fcf-ee15-996dc18b397c"
      },
      "execution_count": 44,
      "outputs": [
        {
          "output_type": "execute_result",
          "data": {
            "text/plain": [
              "array(['Python]', '12131325', 'Profissional', 'Java'], dtype='<U21')"
            ]
          },
          "metadata": {},
          "execution_count": 44
        }
      ]
    },
    {
      "cell_type": "markdown",
      "source": [
        "##Alterando um elemento do Array"
      ],
      "metadata": {
        "id": "ftPMth9Pzskz"
      }
    },
    {
      "cell_type": "code",
      "source": [
        "vetor1[2] = 10\n",
        "vetor1"
      ],
      "metadata": {
        "colab": {
          "base_uri": "https://localhost:8080/"
        },
        "id": "tDlmg4bYzzYw",
        "outputId": "272905ae-e908-4572-8a68-3566e7f3b468"
      },
      "execution_count": 46,
      "outputs": [
        {
          "output_type": "execute_result",
          "data": {
            "text/plain": [
              "array([ 0,  1, 10,  3,  4])"
            ]
          },
          "metadata": {},
          "execution_count": 46
        }
      ]
    },
    {
      "cell_type": "markdown",
      "source": [
        "##Incluindo Elementos"
      ],
      "metadata": {
        "id": "9ps6bPmZ0Aw4"
      }
    },
    {
      "cell_type": "code",
      "source": [
        "vetor1[0] = 'Novo Elemento'\n",
        "vetor1"
      ],
      "metadata": {
        "colab": {
          "base_uri": "https://localhost:8080/",
          "height": 183
        },
        "id": "oexQZxja0Ek4",
        "outputId": "c2ddc43b-bb05-4442-8f15-3d8f6c8927a7"
      },
      "execution_count": 48,
      "outputs": [
        {
          "output_type": "error",
          "ename": "ValueError",
          "evalue": "ignored",
          "traceback": [
            "\u001b[0;31m---------------------------------------------------------------------------\u001b[0m",
            "\u001b[0;31mValueError\u001b[0m                                Traceback (most recent call last)",
            "\u001b[0;32m<ipython-input-48-9c165cb695f1>\u001b[0m in \u001b[0;36m<module>\u001b[0;34m\u001b[0m\n\u001b[0;32m----> 1\u001b[0;31m \u001b[0mvetor1\u001b[0m\u001b[0;34m[\u001b[0m\u001b[0;36m0\u001b[0m\u001b[0;34m]\u001b[0m \u001b[0;34m=\u001b[0m \u001b[0;34m'Novo Elemento'\u001b[0m\u001b[0;34m\u001b[0m\u001b[0;34m\u001b[0m\u001b[0m\n\u001b[0m\u001b[1;32m      2\u001b[0m \u001b[0mvetor1\u001b[0m\u001b[0;34m\u001b[0m\u001b[0;34m\u001b[0m\u001b[0m\n",
            "\u001b[0;31mValueError\u001b[0m: invalid literal for int() with base 10: 'Novo Elemento'"
          ]
        }
      ]
    },
    {
      "cell_type": "code",
      "source": [
        "vetor1[0] = 45.6\n",
        "vetor1"
      ],
      "metadata": {
        "colab": {
          "base_uri": "https://localhost:8080/"
        },
        "id": "AbXckrTI0N3a",
        "outputId": "4667c43c-aa97-4c25-d799-dfeeee833b1e"
      },
      "execution_count": 49,
      "outputs": [
        {
          "output_type": "execute_result",
          "data": {
            "text/plain": [
              "array([45,  1, 10,  3,  4])"
            ]
          },
          "metadata": {},
          "execution_count": 49
        }
      ]
    }
  ]
}